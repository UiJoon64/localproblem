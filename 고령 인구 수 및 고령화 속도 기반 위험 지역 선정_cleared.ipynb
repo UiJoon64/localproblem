{
 "cells": [
  {
   "cell_type": "code",
   "execution_count": null,
   "id": "a310b5a2",
   "metadata": {},
   "outputs": [],
   "source": [
    "import matplotlib.pyplot as plt\n",
    "import pandas as pd\n",
    "import geopandas as gpd\n",
    "import folium"
   ]
  },
  {
   "cell_type": "code",
   "execution_count": null,
   "id": "ed0dc8ad",
   "metadata": {},
   "outputs": [],
   "source": [
    "df=pd.read_csv(\"busan_oldage_ratio.csv\",index_col=\"행정구역\",encoding=\"cp949\")\n",
    "\n",
    "# '비율'이라는 단어가 들어간 컬럼만 선택\n",
    "selected_columns = df.columns[df.columns.str.contains('비율')]\n",
    "\n",
    "# 선택된 컬럼으로 새로운 데이터프레임 생성\n",
    "df1 = df[selected_columns]\n",
    "\n",
    "df1"
   ]
  },
  {
   "cell_type": "code",
   "execution_count": null,
   "id": "ae5f7669",
   "metadata": {},
   "outputs": [],
   "source": [
    "# 각 연도별 비율 차이 계산\n",
    "df['증가 속도'] = df1.iloc[:, -1] - df1.iloc[:, 0]\n",
    "\n",
    "# 기간 설정\n",
    "years = 2023 - 2008\n",
    "\n",
    "# 평균 연간 증가 속도 계산\n",
    "df['평균 연간 증가 속도'] = df['증가 속도'] / years"
   ]
  },
  {
   "cell_type": "code",
   "execution_count": null,
   "id": "f8ff9552",
   "metadata": {
    "scrolled": true
   },
   "outputs": [],
   "source": [
    "df.head()"
   ]
  },
  {
   "cell_type": "code",
   "execution_count": null,
   "id": "1f025757",
   "metadata": {},
   "outputs": [],
   "source": [
    "df['adm_cd2'] = df.index.str.split('(').str[1].str.split(')').str[0]\n",
    "df.head()"
   ]
  },
  {
   "cell_type": "markdown",
   "id": "a04cb2a1",
   "metadata": {},
   "source": [
    "## 행정동 표시하기"
   ]
  },
  {
   "cell_type": "code",
   "execution_count": null,
   "id": "636d361e",
   "metadata": {},
   "outputs": [],
   "source": [
    "# GeoJSON 파일 경로\n",
    "geojson_file = 'HangJeongDong_ver20230701.geojson'\n",
    "\n",
    "# GeoPandas를 사용하여 GeoJSON 파일 읽기\n",
    "gdf = gpd.read_file(geojson_file)\n",
    "\n",
    "# \"sido\" 열의 값이 '26'인 행만 선택\n",
    "selected_gdf = gdf[gdf[\"sido\"] == '26']\n",
    "\n",
    "# 선택된 GeoPandas 데이터프레임을 Folium 맵으로 변환\n",
    "m = folium.Map(location=[selected_gdf['geometry'].centroid.y.mean(), selected_gdf['geometry'].centroid.x.mean()],\n",
    "               zoom_start=10,\n",
    "               tiles=\"cartodbpositron\")\n",
    "\n",
    "# 선택된 GeoPandas 데이터프레임의 각 지오메트리를 Folium 지오메트리로 추가\n",
    "for _, geojson_data in selected_gdf.iterrows():\n",
    "    folium.GeoJson(geojson_data['geometry']).add_to(m)\n",
    "\n",
    "# Folium 맵을 표시\n",
    "m"
   ]
  },
  {
   "cell_type": "code",
   "execution_count": null,
   "id": "5b89dcde",
   "metadata": {},
   "outputs": [],
   "source": [
    "selected_gdf"
   ]
  },
  {
   "cell_type": "code",
   "execution_count": null,
   "id": "8ce6e368",
   "metadata": {},
   "outputs": [],
   "source": [
    "# 데이터프레임과 geojson 데이터 결합\n",
    "merged = selected_gdf.set_index('adm_cd2').join(df.set_index('adm_cd2'))\n",
    "merged"
   ]
  },
  {
   "cell_type": "code",
   "execution_count": null,
   "id": "5c298113",
   "metadata": {},
   "outputs": [],
   "source": [
    "# 선택된 GeoPandas 데이터프레임을 Folium 맵으로 변환\n",
    "m = folium.Map(location=[selected_gdf['geometry'].centroid.y.mean(), selected_gdf['geometry'].centroid.x.mean()],\n",
    "               zoom_start=10,\n",
    "               tiles=\"cartodbpositron\")\n",
    "\n",
    "\n",
    "folium.Choropleth(\n",
    "    geo_data=merged.__geo_interface__,\n",
    "    name='choropleth',\n",
    "    data=merged.reset_index(),\n",
    "    columns=['adm_nm', '증가 속도'],\n",
    "    key_on='feature.properties.adm_nm',\n",
    "    fill_color='YlOrRd',\n",
    "    fill_opacity=0.7,\n",
    "    line_opacity=0.2,\n",
    "    legend_name='비율 증가 속도'\n",
    ").add_to(m)\n",
    "\n",
    "# 지도 출력\n",
    "m\n"
   ]
  },
  {
   "cell_type": "code",
   "execution_count": null,
   "id": "c17c8997",
   "metadata": {},
   "outputs": [],
   "source": [
    "# 선택된 GeoPandas 데이터프레임을 Folium 맵으로 변환\n",
    "m = folium.Map(location=[selected_gdf['geometry'].centroid.y.mean(), selected_gdf['geometry'].centroid.x.mean()],\n",
    "               zoom_start=10,\n",
    "               tiles=\"cartodbpositron\")\n",
    "\n",
    "\n",
    "folium.Choropleth(\n",
    "    geo_data=merged.__geo_interface__,\n",
    "    name='choropleth',\n",
    "    data=merged.reset_index(),\n",
    "    columns=['adm_nm', '2023년10월_비율'], \n",
    "    key_on='feature.properties.adm_nm',\n",
    "    fill_color='YlOrRd',\n",
    "    fill_opacity=0.7,\n",
    "    line_opacity=0.2,\n",
    "    legend_name='2023년 10월 기준 고령 인구 비율'\n",
    ").add_to(m)\n",
    "\n",
    "# 지도 출력\n",
    "m\n"
   ]
  },
  {
   "cell_type": "markdown",
   "id": "a2a3d48a",
   "metadata": {},
   "source": [
    "## 두 컬럼의 값을 전체 지역의 75% 분위수 이상인 동을 선정\n",
    "#### (비율은 조정 가능)"
   ]
  },
  {
   "cell_type": "code",
   "execution_count": null,
   "id": "bbd4cc92",
   "metadata": {},
   "outputs": [],
   "source": [
    "# 75% 분위수 이상인 값을 가진 동을 찾음\n",
    "serious_area = merged[(merged['증가 속도'] >= merged['증가 속도'].quantile(0.75)) & \n",
    "                      (merged['2023년10월_비율'] >= merged['2023년10월_비율'].quantile(0.75))]\n",
    "\n",
    "# 심각한 지역의 adm_nm 출력\n",
    "print(serious_area['adm_nm'])"
   ]
  },
  {
   "cell_type": "code",
   "execution_count": null,
   "id": "8aa3f03f",
   "metadata": {},
   "outputs": [],
   "source": [
    "serious_area.head()"
   ]
  },
  {
   "cell_type": "code",
   "execution_count": null,
   "id": "46c5a874",
   "metadata": {},
   "outputs": [],
   "source": [
    "# 선택된 GeoPandas 데이터프레임을 Folium 맵으로 변환\n",
    "m = folium.Map(location=[serious_area['geometry'].centroid.y.mean(), serious_area['geometry'].centroid.x.mean()],\n",
    "               zoom_start=10,\n",
    "               tiles=\"cartodbpositron\")\n",
    "\n",
    "folium.Choropleth(\n",
    "    geo_data=serious_area.__geo_interface__,\n",
    "    name='choropleth',\n",
    "    data=serious_area.reset_index(),\n",
    "    columns=['adm_nm', '2023년10월_비율'],\n",
    "    key_on='feature.properties.adm_nm',\n",
    "    fill_color='YlOrRd',\n",
    "    fill_opacity=0.7,\n",
    "    line_opacity=0.2,\n",
    "    legend_name='2023년 10월 고령 인구 비율'\n",
    ").add_to(m)\n",
    "\n",
    "# 지도 출력\n",
    "m\n"
   ]
  },
  {
   "cell_type": "code",
   "execution_count": null,
   "id": "6b452448",
   "metadata": {},
   "outputs": [],
   "source": [
    "# '인구_기반_위험지역_선정_여부_75' 컬럼 추가\n",
    "merged['인구_기반_위험지역_선정_여부_75'] = False\n",
    "\n",
    "# serious_area에 해당하는 지역을 True로 표시\n",
    "merged.loc[merged['adm_nm'].isin(serious_area['adm_nm']), '인구_기반_위험지역_선정_여부_75'] = True\n",
    "\n",
    "merged"
   ]
  },
  {
   "cell_type": "code",
   "execution_count": null,
   "id": "35d316a9",
   "metadata": {},
   "outputs": [],
   "source": [
    "num_true = merged[merged['인구_기반_위험지역_선정_여부_75'] == True].shape[0]\n",
    "print(\"인구 기반 위험지역 선정 개수:\", num_true)"
   ]
  },
  {
   "cell_type": "code",
   "execution_count": null,
   "id": "8ab7b054",
   "metadata": {},
   "outputs": [],
   "source": [
    "merged.to_csv(\"old_age_vel_serious_area.csv\",encoding=\"cp949\")"
   ]
  },
  {
   "cell_type": "code",
   "execution_count": null,
   "id": "c54e4918",
   "metadata": {},
   "outputs": [],
   "source": [
    "# '2008년11월_비율'부터 '2023년10월_비율'까지의 컬럼 선택\n",
    "selected_columns = [col for col in merged.columns if '2008년11월_비율' <= col <= '2023년10월_비율']\n",
    "\n",
    "# 각 연월별 비율의 차이 (증가속도) 계산\n",
    "adc = merged[selected_columns].diff(axis=1)\n",
    "\n",
    "# 증가속도의 차이 (증가속도의 증감) 계산 후 평균 취하기\n",
    "merged['증가속도의_증감'] = adc.diff(axis=1).mean(axis=1)\n",
    "\n",
    "merged"
   ]
  },
  {
   "cell_type": "code",
   "execution_count": null,
   "id": "7ea4b25c",
   "metadata": {},
   "outputs": [],
   "source": [
    "merged = merged.drop(['증감정도', '증가속도1'], axis=1)"
   ]
  },
  {
   "cell_type": "code",
   "execution_count": null,
   "id": "222d9d93",
   "metadata": {},
   "outputs": [],
   "source": [
    "# 지도의 중심을 지정하기 위해 위도와 경도의 평균값을 계산\n",
    "average_lat = merged['geometry'].centroid.y.mean()\n",
    "average_lon = merged['geometry'].centroid.x.mean()\n",
    "\n",
    "# Folium 지도를 생성\n",
    "m = folium.Map([average_lat, average_lon], zoom_start=10,tiles=\"cartodbpositron\")\n",
    "\n",
    "# Choropleth 레이어를 추가\n",
    "folium.Choropleth(\n",
    "    geo_data=merged.set_index('adm_nm')['geometry'].__geo_interface__,\n",
    "    name='choropleth',\n",
    "    data=merged,\n",
    "    columns=['adm_nm', '증가속도의_증감'],\n",
    "    key_on='feature.id',\n",
    "    fill_color='YlOrRd',\n",
    "    fill_opacity=0.7,\n",
    "    line_opacity=0.2,\n",
    "    legend_name='증가속도의_증감'\n",
    ").add_to(m)\n",
    "\n",
    "m"
   ]
  },
  {
   "cell_type": "code",
   "execution_count": null,
   "id": "26622dce",
   "metadata": {},
   "outputs": [],
   "source": [
    "# 임계값 설정\n",
    "증가속도의_증감_임계값 = merged['증가속도의_증감'].quantile(0.50)\n",
    "증가속도_임계값 = merged['증가 속도'].quantile(0.50)\n",
    "비율_임계값 = merged['2023년10월_비율'].quantile(0.50)\n",
    "\n",
    "# 각 행별로 임계값을 초과하는지 확인하여 '속도_기반_위험지역_선정_여부_75' 컬럼 생성\n",
    "merged['속도_기반_위험지역_선정_여부_75'] = (merged['증가속도의_증감'] > 증가속도의_증감_임계값) & (merged['증가 속도'] > 증가속도_임계값) & (merged['2023년10월_비율'] > 비율_임계값)\n",
    "\n",
    "merged"
   ]
  },
  {
   "cell_type": "code",
   "execution_count": null,
   "id": "83d4f05f",
   "metadata": {},
   "outputs": [],
   "source": [
    "# '속도_기반_위험지역_선정_여부_75' 컬럼이 True인 행의 개수를 계산\n",
    "위험지역_개수 = merged['속도_기반_위험지역_선정_여부_75'].sum()\n",
    "\n",
    "print(f\"고령화가 심각한 지역의 개수: {위험지역_개수}\")\n"
   ]
  },
  {
   "cell_type": "code",
   "execution_count": null,
   "id": "e31121f8",
   "metadata": {},
   "outputs": [],
   "source": [
    "import folium\n",
    "\n",
    "# '속도_기반_위험지역_선정_여부_75'가 True인 행만 추출\n",
    "위험지역_df = merged.loc[merged['속도_기반_위험지역_선정_여부_75'] == True]\n",
    "\n",
    "# 지도의 중심을 지정하기 위해 위도와 경도의 평균값을 계산\n",
    "average_lat = 위험지역_df['geometry'].centroid.y.mean()\n",
    "average_lon = 위험지역_df['geometry'].centroid.x.mean()\n",
    "\n",
    "# Folium 지도를 생성\n",
    "m = folium.Map([average_lat, average_lon], zoom_start=10,tiles=\"cartodbpositron\")\n",
    "\n",
    "# Choropleth 레이어를 추가\n",
    "folium.Choropleth(\n",
    "    geo_data=위험지역_df.set_index('adm_nm')['geometry'].__geo_interface__,\n",
    "    name='choropleth',\n",
    "    data=위험지역_df,\n",
    "    columns=['adm_nm', '증가속도의_증감'],\n",
    "    key_on='feature.id',\n",
    "    fill_color='YlOrRd',\n",
    "    fill_opacity=0.7,\n",
    "    line_opacity=0.2,\n",
    "    legend_name='증가속도의_증감'\n",
    ").add_to(m)\n",
    "\n",
    "m\n"
   ]
  },
  {
   "cell_type": "code",
   "execution_count": null,
   "id": "10ef211b",
   "metadata": {},
   "outputs": [],
   "source": [
    "merged.to_csv(\"old_age_vel_serious_area_final.csv\",encoding=\"cp949\")"
   ]
  },
  {
   "cell_type": "code",
   "execution_count": null,
   "id": "9ef97ba8",
   "metadata": {},
   "outputs": [],
   "source": []
  }
 ],
 "metadata": {
  "kernelspec": {
   "display_name": "pknu_base",
   "language": "python",
   "name": "pknu_base"
  },
  "language_info": {
   "codemirror_mode": {
    "name": "ipython",
    "version": 3
   },
   "file_extension": ".py",
   "mimetype": "text/x-python",
   "name": "python",
   "nbconvert_exporter": "python",
   "pygments_lexer": "ipython3",
   "version": "3.9.16"
  }
 },
 "nbformat": 4,
 "nbformat_minor": 5
}
